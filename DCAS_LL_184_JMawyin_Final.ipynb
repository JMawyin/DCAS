{
  "nbformat": 4,
  "nbformat_minor": 0,
  "metadata": {
    "colab": {
      "name": "DCAS_LL_184_JMawyin_Final.ipynb",
      "provenance": [],
      "toc_visible": true,
      "authorship_tag": "ABX9TyPg5cKZXDvL72lKH/Uq+zA0",
      "include_colab_link": true
    },
    "kernelspec": {
      "name": "python3",
      "display_name": "Python 3"
    },
    "language_info": {
      "name": "python"
    }
  },
  "cells": [
    {
      "cell_type": "markdown",
      "metadata": {
        "id": "view-in-github",
        "colab_type": "text"
      },
      "source": [
        "<a href=\"https://colab.research.google.com/github/JMawyin/DCAS/blob/main/DCAS_LL_184_JMawyin_Final.ipynb\" target=\"_parent\"><img src=\"https://colab.research.google.com/assets/colab-badge.svg\" alt=\"Open In Colab\"/></a>"
      ]
    },
    {
      "cell_type": "markdown",
      "metadata": {
        "id": "Y70TzzftRD0k"
      },
      "source": [
        "# Supporting Analysis for Local Law 184\n",
        "\n",
        "**By Jose A. Mawyin, PhD**"
      ]
    },
    {
      "cell_type": "markdown",
      "metadata": {
        "id": "OdtnPSw9ROv0"
      },
      "source": [
        "The following report shows the correlation between traffic volume, number of vehicular crashes and average speed with hour of the day. The data sets in this analysis were sourced from:\n",
        "\n",
        "* A. Motor Vehicle Crashes: https://data.cityofnewyork.us/api/views/h9gi-nx95/rows.csv?accessType=DOWNLOAD\n",
        "\n",
        "* B. Traffic Volume Counts: https://data.cityofnewyork.us/api/views/ertz-hr4r/rows.csv?accessType=DOWNLOAD\n",
        "\n",
        "* C. 2016 NYC Real Time Traffic Speed Data Feed: https://www.kaggle.com/crailtap/nyc-real-time-traffic-speed-data-feed/download\n",
        "\n",
        "\n",
        "**Section A.** Is a data set on Motor Vehicle Collisions - Crashes. The data set notes indicate that:\n",
        "\n",
        "\"The Motor Vehicle Collisions crash table contains details on the crash event. Each row represents a crash event. The Motor Vehicle Collisions data tables contain information from all police reported motor vehicle collisions in NYC. The police report (MV104-AN) is required to be filled out for collisions where someone is injured or killed, or where there is at least $1000 worth of damage.\"\n",
        "\n",
        "*The analysis for Section A. aggregates hourly data by year to create 3 time series showing the percentage of daily crashes per hour of day for the years of 2019, 2017 and 2015.*\n",
        "\n",
        "**Section B.** Takes data NYC Department of Transportation study on Traffic Volume Counts (2014-2019). The origin of the data is:\n",
        "\n",
        "\"New York City Department of Transportation (NYCDOT) collects traffic volume counts for New York Metropolitan Transportation Council (NYMTC) to validate the New York Best Practice Model (NYBPM)\"\n",
        "\n",
        "*The analysis for Section B. aggregates hourly data by year to create 3 time series showing the total count of detected vehicles per hour of day for the years of 2019, 2017 and 2015.*\n",
        "\n",
        "**Section C.** The data was sourced from a Kaggle contest and \"contains 'real-time' traffic information from locations where NYCDOT picks up sensor feeds within the five boroughs of NYC, mostly on major arterials and highways. NYCDOT uses this information for emergency response and management, see Acknowledgements.\"\n",
        "\n",
        "*The analysis for Section C. aggregates hourly data from the year of 2016 showing the average speed of cars per hour of day.*\n",
        "\n",
        "**Section D.** This section stacks plots from Section A, B and C to show correlations in time of Traffic, Crashes and Average Speed of vehicles.\n",
        "\n"
      ]
    },
    {
      "cell_type": "code",
      "metadata": {
        "colab": {
          "base_uri": "https://localhost:8080/"
        },
        "id": "QDnMyz9Ey3UR",
        "outputId": "68cf0630-1dc7-4a33-f587-6ffc0d40ffb2"
      },
      "source": [
        "from google.colab import drive\n",
        "drive.mount('/gdrive')\n",
        "drive.mount('/content/drive')\n"
      ],
      "execution_count": null,
      "outputs": [
        {
          "output_type": "stream",
          "name": "stdout",
          "text": [
            "Mounted at /gdrive\n",
            "Mounted at /content/drive\n"
          ]
        }
      ]
    },
    {
      "cell_type": "code",
      "metadata": {
        "id": "ZMCkja43-EWK"
      },
      "source": [
        "import pandas as pd\n",
        "import altair as alt\n",
        "import matplotlib.pyplot as plt"
      ],
      "execution_count": null,
      "outputs": []
    },
    {
      "cell_type": "code",
      "metadata": {
        "id": "rn-8Fi5y0gZ-"
      },
      "source": [
        "MVC_Crashes_pth = \"/content/drive/MyDrive/Datasets/DCAS/Motor_Vehicle_Collisions_-_Crashes.csv\"\n",
        "MVC_Vehicles_pth = \"/content/drive/MyDrive/Datasets/DCAS/Motor_Vehicle_Collisions_-_Vehicles.csv\"\n",
        "TVC_2014_2019_pth = \"/content/drive/MyDrive/Datasets/DCAS/Traffic_Volume_Counts__2014-2019_.csv\""
      ],
      "execution_count": null,
      "outputs": []
    },
    {
      "cell_type": "markdown",
      "metadata": {
        "id": "4qVD6_PK026H"
      },
      "source": [
        "## A. Motor Vehicles Collisions - Crashes Overview"
      ]
    },
    {
      "cell_type": "markdown",
      "metadata": {
        "id": "XRbNbqoMboUD"
      },
      "source": [
        "### Data Manipulation"
      ]
    },
    {
      "cell_type": "code",
      "metadata": {
        "colab": {
          "base_uri": "https://localhost:8080/",
          "height": 284
        },
        "id": "_-eK4-VR0-bD",
        "outputId": "78cd3a96-8745-4c0e-ffeb-7bd592f29f64"
      },
      "source": [
        "MVC_Crashes = pd.read_csv(MVC_Crashes_pth)\n",
        "\n",
        "MVC_Crashes.head(2)"
      ],
      "execution_count": null,
      "outputs": [
        {
          "output_type": "stream",
          "name": "stderr",
          "text": [
            "/usr/local/lib/python3.7/dist-packages/IPython/core/interactiveshell.py:2718: DtypeWarning: Columns (3) have mixed types.Specify dtype option on import or set low_memory=False.\n",
            "  interactivity=interactivity, compiler=compiler, result=result)\n"
          ]
        },
        {
          "output_type": "execute_result",
          "data": {
            "text/html": [
              "<div>\n",
              "<style scoped>\n",
              "    .dataframe tbody tr th:only-of-type {\n",
              "        vertical-align: middle;\n",
              "    }\n",
              "\n",
              "    .dataframe tbody tr th {\n",
              "        vertical-align: top;\n",
              "    }\n",
              "\n",
              "    .dataframe thead th {\n",
              "        text-align: right;\n",
              "    }\n",
              "</style>\n",
              "<table border=\"1\" class=\"dataframe\">\n",
              "  <thead>\n",
              "    <tr style=\"text-align: right;\">\n",
              "      <th></th>\n",
              "      <th>CRASH DATE</th>\n",
              "      <th>CRASH TIME</th>\n",
              "      <th>BOROUGH</th>\n",
              "      <th>ZIP CODE</th>\n",
              "      <th>LATITUDE</th>\n",
              "      <th>LONGITUDE</th>\n",
              "      <th>LOCATION</th>\n",
              "      <th>ON STREET NAME</th>\n",
              "      <th>CROSS STREET NAME</th>\n",
              "      <th>OFF STREET NAME</th>\n",
              "      <th>NUMBER OF PERSONS INJURED</th>\n",
              "      <th>NUMBER OF PERSONS KILLED</th>\n",
              "      <th>NUMBER OF PEDESTRIANS INJURED</th>\n",
              "      <th>NUMBER OF PEDESTRIANS KILLED</th>\n",
              "      <th>NUMBER OF CYCLIST INJURED</th>\n",
              "      <th>NUMBER OF CYCLIST KILLED</th>\n",
              "      <th>NUMBER OF MOTORIST INJURED</th>\n",
              "      <th>NUMBER OF MOTORIST KILLED</th>\n",
              "      <th>CONTRIBUTING FACTOR VEHICLE 1</th>\n",
              "      <th>CONTRIBUTING FACTOR VEHICLE 2</th>\n",
              "      <th>CONTRIBUTING FACTOR VEHICLE 3</th>\n",
              "      <th>CONTRIBUTING FACTOR VEHICLE 4</th>\n",
              "      <th>CONTRIBUTING FACTOR VEHICLE 5</th>\n",
              "      <th>COLLISION_ID</th>\n",
              "      <th>VEHICLE TYPE CODE 1</th>\n",
              "      <th>VEHICLE TYPE CODE 2</th>\n",
              "      <th>VEHICLE TYPE CODE 3</th>\n",
              "      <th>VEHICLE TYPE CODE 4</th>\n",
              "      <th>VEHICLE TYPE CODE 5</th>\n",
              "    </tr>\n",
              "  </thead>\n",
              "  <tbody>\n",
              "    <tr>\n",
              "      <th>0</th>\n",
              "      <td>04/14/2021</td>\n",
              "      <td>5:32</td>\n",
              "      <td>NaN</td>\n",
              "      <td>NaN</td>\n",
              "      <td>NaN</td>\n",
              "      <td>NaN</td>\n",
              "      <td>NaN</td>\n",
              "      <td>BRONX WHITESTONE BRIDGE</td>\n",
              "      <td>NaN</td>\n",
              "      <td>NaN</td>\n",
              "      <td>0.0</td>\n",
              "      <td>0.0</td>\n",
              "      <td>0</td>\n",
              "      <td>0</td>\n",
              "      <td>0</td>\n",
              "      <td>0</td>\n",
              "      <td>0</td>\n",
              "      <td>0</td>\n",
              "      <td>Following Too Closely</td>\n",
              "      <td>Unspecified</td>\n",
              "      <td>NaN</td>\n",
              "      <td>NaN</td>\n",
              "      <td>NaN</td>\n",
              "      <td>4407480</td>\n",
              "      <td>Sedan</td>\n",
              "      <td>Sedan</td>\n",
              "      <td>NaN</td>\n",
              "      <td>NaN</td>\n",
              "      <td>NaN</td>\n",
              "    </tr>\n",
              "    <tr>\n",
              "      <th>1</th>\n",
              "      <td>04/13/2021</td>\n",
              "      <td>21:35</td>\n",
              "      <td>BROOKLYN</td>\n",
              "      <td>11217</td>\n",
              "      <td>40.68358</td>\n",
              "      <td>-73.97617</td>\n",
              "      <td>(40.68358, -73.97617)</td>\n",
              "      <td>NaN</td>\n",
              "      <td>NaN</td>\n",
              "      <td>620       ATLANTIC AVENUE</td>\n",
              "      <td>1.0</td>\n",
              "      <td>0.0</td>\n",
              "      <td>1</td>\n",
              "      <td>0</td>\n",
              "      <td>0</td>\n",
              "      <td>0</td>\n",
              "      <td>0</td>\n",
              "      <td>0</td>\n",
              "      <td>Unspecified</td>\n",
              "      <td>NaN</td>\n",
              "      <td>NaN</td>\n",
              "      <td>NaN</td>\n",
              "      <td>NaN</td>\n",
              "      <td>4407147</td>\n",
              "      <td>Sedan</td>\n",
              "      <td>NaN</td>\n",
              "      <td>NaN</td>\n",
              "      <td>NaN</td>\n",
              "      <td>NaN</td>\n",
              "    </tr>\n",
              "  </tbody>\n",
              "</table>\n",
              "</div>"
            ],
            "text/plain": [
              "   CRASH DATE CRASH TIME  ... VEHICLE TYPE CODE 4 VEHICLE TYPE CODE 5\n",
              "0  04/14/2021       5:32  ...                 NaN                 NaN\n",
              "1  04/13/2021      21:35  ...                 NaN                 NaN\n",
              "\n",
              "[2 rows x 29 columns]"
            ]
          },
          "metadata": {},
          "execution_count": 4
        }
      ]
    },
    {
      "cell_type": "code",
      "metadata": {
        "colab": {
          "base_uri": "https://localhost:8080/"
        },
        "id": "FUjU46raTe29",
        "outputId": "85f43292-111c-4049-df3c-1f11b1eeb306"
      },
      "source": [
        "MVC_Crashes.isna().sum()"
      ],
      "execution_count": null,
      "outputs": [
        {
          "output_type": "execute_result",
          "data": {
            "text/plain": [
              "CRASH DATE                             0\n",
              "CRASH TIME                             0\n",
              "BOROUGH                           565885\n",
              "ZIP CODE                          566105\n",
              "LATITUDE                          216293\n",
              "LONGITUDE                         216293\n",
              "LOCATION                          216293\n",
              "ON STREET NAME                    374225\n",
              "CROSS STREET NAME                 657718\n",
              "OFF STREET NAME                  1550898\n",
              "NUMBER OF PERSONS INJURED             18\n",
              "NUMBER OF PERSONS KILLED              31\n",
              "NUMBER OF PEDESTRIANS INJURED          0\n",
              "NUMBER OF PEDESTRIANS KILLED           0\n",
              "NUMBER OF CYCLIST INJURED              0\n",
              "NUMBER OF CYCLIST KILLED               0\n",
              "NUMBER OF MOTORIST INJURED             0\n",
              "NUMBER OF MOTORIST KILLED              0\n",
              "CONTRIBUTING FACTOR VEHICLE 1       5267\n",
              "CONTRIBUTING FACTOR VEHICLE 2     264823\n",
              "CONTRIBUTING FACTOR VEHICLE 3    1707436\n",
              "CONTRIBUTING FACTOR VEHICLE 4    1805387\n",
              "CONTRIBUTING FACTOR VEHICLE 5    1825507\n",
              "COLLISION_ID                           0\n",
              "VEHICLE TYPE CODE 1                10019\n",
              "VEHICLE TYPE CODE 2               314305\n",
              "VEHICLE TYPE CODE 3              1711146\n",
              "VEHICLE TYPE CODE 4              1806205\n",
              "VEHICLE TYPE CODE 5              1825704\n",
              "dtype: int64"
            ]
          },
          "metadata": {},
          "execution_count": 5
        }
      ]
    },
    {
      "cell_type": "code",
      "metadata": {
        "colab": {
          "base_uri": "https://localhost:8080/",
          "height": 250
        },
        "id": "fYUdLbr72Sdl",
        "outputId": "466af1c0-cb38-49a0-92ef-6e24261eea49"
      },
      "source": [
        "MVC_Crashes_filt = MVC_Crashes.copy()\n",
        "MVC_Crashes_filt['CRASH_TIME_combined'] = MVC_Crashes_filt[\"CRASH DATE\"] + \" \" + MVC_Crashes_filt[\"CRASH TIME\"]\n",
        "MVC_Crashes_filt['dt_CRASH_TIME'] = pd.to_datetime(MVC_Crashes_filt[\"CRASH_TIME_combined\"])\n",
        "\n",
        "MVC_Crashes_filt.head(2)"
      ],
      "execution_count": null,
      "outputs": [
        {
          "output_type": "execute_result",
          "data": {
            "text/html": [
              "<div>\n",
              "<style scoped>\n",
              "    .dataframe tbody tr th:only-of-type {\n",
              "        vertical-align: middle;\n",
              "    }\n",
              "\n",
              "    .dataframe tbody tr th {\n",
              "        vertical-align: top;\n",
              "    }\n",
              "\n",
              "    .dataframe thead th {\n",
              "        text-align: right;\n",
              "    }\n",
              "</style>\n",
              "<table border=\"1\" class=\"dataframe\">\n",
              "  <thead>\n",
              "    <tr style=\"text-align: right;\">\n",
              "      <th></th>\n",
              "      <th>CRASH DATE</th>\n",
              "      <th>CRASH TIME</th>\n",
              "      <th>BOROUGH</th>\n",
              "      <th>ZIP CODE</th>\n",
              "      <th>LATITUDE</th>\n",
              "      <th>LONGITUDE</th>\n",
              "      <th>LOCATION</th>\n",
              "      <th>ON STREET NAME</th>\n",
              "      <th>CROSS STREET NAME</th>\n",
              "      <th>OFF STREET NAME</th>\n",
              "      <th>NUMBER OF PERSONS INJURED</th>\n",
              "      <th>NUMBER OF PERSONS KILLED</th>\n",
              "      <th>NUMBER OF PEDESTRIANS INJURED</th>\n",
              "      <th>NUMBER OF PEDESTRIANS KILLED</th>\n",
              "      <th>NUMBER OF CYCLIST INJURED</th>\n",
              "      <th>NUMBER OF CYCLIST KILLED</th>\n",
              "      <th>NUMBER OF MOTORIST INJURED</th>\n",
              "      <th>NUMBER OF MOTORIST KILLED</th>\n",
              "      <th>CONTRIBUTING FACTOR VEHICLE 1</th>\n",
              "      <th>CONTRIBUTING FACTOR VEHICLE 2</th>\n",
              "      <th>CONTRIBUTING FACTOR VEHICLE 3</th>\n",
              "      <th>CONTRIBUTING FACTOR VEHICLE 4</th>\n",
              "      <th>CONTRIBUTING FACTOR VEHICLE 5</th>\n",
              "      <th>COLLISION_ID</th>\n",
              "      <th>VEHICLE TYPE CODE 1</th>\n",
              "      <th>VEHICLE TYPE CODE 2</th>\n",
              "      <th>VEHICLE TYPE CODE 3</th>\n",
              "      <th>VEHICLE TYPE CODE 4</th>\n",
              "      <th>VEHICLE TYPE CODE 5</th>\n",
              "      <th>CRASH_TIME_combined</th>\n",
              "      <th>dt_CRASH_TIME</th>\n",
              "    </tr>\n",
              "  </thead>\n",
              "  <tbody>\n",
              "    <tr>\n",
              "      <th>0</th>\n",
              "      <td>04/14/2021</td>\n",
              "      <td>5:32</td>\n",
              "      <td>NaN</td>\n",
              "      <td>NaN</td>\n",
              "      <td>NaN</td>\n",
              "      <td>NaN</td>\n",
              "      <td>NaN</td>\n",
              "      <td>BRONX WHITESTONE BRIDGE</td>\n",
              "      <td>NaN</td>\n",
              "      <td>NaN</td>\n",
              "      <td>0.0</td>\n",
              "      <td>0.0</td>\n",
              "      <td>0</td>\n",
              "      <td>0</td>\n",
              "      <td>0</td>\n",
              "      <td>0</td>\n",
              "      <td>0</td>\n",
              "      <td>0</td>\n",
              "      <td>Following Too Closely</td>\n",
              "      <td>Unspecified</td>\n",
              "      <td>NaN</td>\n",
              "      <td>NaN</td>\n",
              "      <td>NaN</td>\n",
              "      <td>4407480</td>\n",
              "      <td>Sedan</td>\n",
              "      <td>Sedan</td>\n",
              "      <td>NaN</td>\n",
              "      <td>NaN</td>\n",
              "      <td>NaN</td>\n",
              "      <td>04/14/2021 5:32</td>\n",
              "      <td>2021-04-14 05:32:00</td>\n",
              "    </tr>\n",
              "    <tr>\n",
              "      <th>1</th>\n",
              "      <td>04/13/2021</td>\n",
              "      <td>21:35</td>\n",
              "      <td>BROOKLYN</td>\n",
              "      <td>11217</td>\n",
              "      <td>40.68358</td>\n",
              "      <td>-73.97617</td>\n",
              "      <td>(40.68358, -73.97617)</td>\n",
              "      <td>NaN</td>\n",
              "      <td>NaN</td>\n",
              "      <td>620       ATLANTIC AVENUE</td>\n",
              "      <td>1.0</td>\n",
              "      <td>0.0</td>\n",
              "      <td>1</td>\n",
              "      <td>0</td>\n",
              "      <td>0</td>\n",
              "      <td>0</td>\n",
              "      <td>0</td>\n",
              "      <td>0</td>\n",
              "      <td>Unspecified</td>\n",
              "      <td>NaN</td>\n",
              "      <td>NaN</td>\n",
              "      <td>NaN</td>\n",
              "      <td>NaN</td>\n",
              "      <td>4407147</td>\n",
              "      <td>Sedan</td>\n",
              "      <td>NaN</td>\n",
              "      <td>NaN</td>\n",
              "      <td>NaN</td>\n",
              "      <td>NaN</td>\n",
              "      <td>04/13/2021 21:35</td>\n",
              "      <td>2021-04-13 21:35:00</td>\n",
              "    </tr>\n",
              "  </tbody>\n",
              "</table>\n",
              "</div>"
            ],
            "text/plain": [
              "   CRASH DATE CRASH TIME  ... CRASH_TIME_combined       dt_CRASH_TIME\n",
              "0  04/14/2021       5:32  ...     04/14/2021 5:32 2021-04-14 05:32:00\n",
              "1  04/13/2021      21:35  ...    04/13/2021 21:35 2021-04-13 21:35:00\n",
              "\n",
              "[2 rows x 31 columns]"
            ]
          },
          "metadata": {},
          "execution_count": 6
        }
      ]
    },
    {
      "cell_type": "code",
      "metadata": {
        "colab": {
          "base_uri": "https://localhost:8080/",
          "height": 204
        },
        "id": "G2iEJ-2Z5zoz",
        "outputId": "8581aca4-1867-4026-f8ed-35a9e1f2595a"
      },
      "source": [
        "MVC_Crashes_filt['hour_OC'] = MVC_Crashes_filt['dt_CRASH_TIME'].dt.hour\n",
        "MVC_Crashes_filt['year_OC'] = MVC_Crashes_filt['dt_CRASH_TIME'].dt.year\n",
        "MVC_Crashes_filt = MVC_Crashes_filt[[\"CRASH DATE\",\"CRASH TIME\",\"CRASH_TIME_combined\",\"dt_CRASH_TIME\",\"year_OC\",\"hour_OC\"]]\n",
        "\n",
        "MVC_Crashes_filt.head(5)"
      ],
      "execution_count": null,
      "outputs": [
        {
          "output_type": "execute_result",
          "data": {
            "text/html": [
              "<div>\n",
              "<style scoped>\n",
              "    .dataframe tbody tr th:only-of-type {\n",
              "        vertical-align: middle;\n",
              "    }\n",
              "\n",
              "    .dataframe tbody tr th {\n",
              "        vertical-align: top;\n",
              "    }\n",
              "\n",
              "    .dataframe thead th {\n",
              "        text-align: right;\n",
              "    }\n",
              "</style>\n",
              "<table border=\"1\" class=\"dataframe\">\n",
              "  <thead>\n",
              "    <tr style=\"text-align: right;\">\n",
              "      <th></th>\n",
              "      <th>CRASH DATE</th>\n",
              "      <th>CRASH TIME</th>\n",
              "      <th>CRASH_TIME_combined</th>\n",
              "      <th>dt_CRASH_TIME</th>\n",
              "      <th>year_OC</th>\n",
              "      <th>hour_OC</th>\n",
              "    </tr>\n",
              "  </thead>\n",
              "  <tbody>\n",
              "    <tr>\n",
              "      <th>0</th>\n",
              "      <td>04/14/2021</td>\n",
              "      <td>5:32</td>\n",
              "      <td>04/14/2021 5:32</td>\n",
              "      <td>2021-04-14 05:32:00</td>\n",
              "      <td>2021</td>\n",
              "      <td>5</td>\n",
              "    </tr>\n",
              "    <tr>\n",
              "      <th>1</th>\n",
              "      <td>04/13/2021</td>\n",
              "      <td>21:35</td>\n",
              "      <td>04/13/2021 21:35</td>\n",
              "      <td>2021-04-13 21:35:00</td>\n",
              "      <td>2021</td>\n",
              "      <td>21</td>\n",
              "    </tr>\n",
              "    <tr>\n",
              "      <th>2</th>\n",
              "      <td>04/15/2021</td>\n",
              "      <td>16:15</td>\n",
              "      <td>04/15/2021 16:15</td>\n",
              "      <td>2021-04-15 16:15:00</td>\n",
              "      <td>2021</td>\n",
              "      <td>16</td>\n",
              "    </tr>\n",
              "    <tr>\n",
              "      <th>3</th>\n",
              "      <td>04/13/2021</td>\n",
              "      <td>16:00</td>\n",
              "      <td>04/13/2021 16:00</td>\n",
              "      <td>2021-04-13 16:00:00</td>\n",
              "      <td>2021</td>\n",
              "      <td>16</td>\n",
              "    </tr>\n",
              "    <tr>\n",
              "      <th>4</th>\n",
              "      <td>04/12/2021</td>\n",
              "      <td>8:25</td>\n",
              "      <td>04/12/2021 8:25</td>\n",
              "      <td>2021-04-12 08:25:00</td>\n",
              "      <td>2021</td>\n",
              "      <td>8</td>\n",
              "    </tr>\n",
              "  </tbody>\n",
              "</table>\n",
              "</div>"
            ],
            "text/plain": [
              "   CRASH DATE CRASH TIME  ... year_OC hour_OC\n",
              "0  04/14/2021       5:32  ...    2021       5\n",
              "1  04/13/2021      21:35  ...    2021      21\n",
              "2  04/15/2021      16:15  ...    2021      16\n",
              "3  04/13/2021      16:00  ...    2021      16\n",
              "4  04/12/2021       8:25  ...    2021       8\n",
              "\n",
              "[5 rows x 6 columns]"
            ]
          },
          "metadata": {},
          "execution_count": 7
        }
      ]
    },
    {
      "cell_type": "code",
      "metadata": {
        "id": "arFkT7QU6Chu",
        "colab": {
          "base_uri": "https://localhost:8080/"
        },
        "outputId": "ebed67b3-c8d2-461e-8d54-0af0ba139a7a"
      },
      "source": [
        "print(MVC_Crashes_filt.year_OC.unique())"
      ],
      "execution_count": null,
      "outputs": [
        {
          "output_type": "stream",
          "name": "stdout",
          "text": [
            "[2021 2019 2020 2016 2018 2013 2012 2015 2017 2014]\n"
          ]
        }
      ]
    },
    {
      "cell_type": "code",
      "metadata": {
        "colab": {
          "base_uri": "https://localhost:8080/",
          "height": 359
        },
        "id": "Er2XtG0w-gUV",
        "outputId": "b7a9fabb-563e-4f61-e11c-93bb71503bdd"
      },
      "source": [
        "MVC_Crashes_plot = MVC_Crashes_filt.copy()\n",
        "# k = 1000\n",
        "# MVC_Crashes_plot = MVC_Crashes_plot.sample(n=k)\n",
        "MVC_Crashes_plot.head(10)"
      ],
      "execution_count": null,
      "outputs": [
        {
          "output_type": "execute_result",
          "data": {
            "text/html": [
              "<div>\n",
              "<style scoped>\n",
              "    .dataframe tbody tr th:only-of-type {\n",
              "        vertical-align: middle;\n",
              "    }\n",
              "\n",
              "    .dataframe tbody tr th {\n",
              "        vertical-align: top;\n",
              "    }\n",
              "\n",
              "    .dataframe thead th {\n",
              "        text-align: right;\n",
              "    }\n",
              "</style>\n",
              "<table border=\"1\" class=\"dataframe\">\n",
              "  <thead>\n",
              "    <tr style=\"text-align: right;\">\n",
              "      <th></th>\n",
              "      <th>CRASH DATE</th>\n",
              "      <th>CRASH TIME</th>\n",
              "      <th>CRASH_TIME_combined</th>\n",
              "      <th>dt_CRASH_TIME</th>\n",
              "      <th>year_OC</th>\n",
              "      <th>hour_OC</th>\n",
              "    </tr>\n",
              "  </thead>\n",
              "  <tbody>\n",
              "    <tr>\n",
              "      <th>0</th>\n",
              "      <td>04/14/2021</td>\n",
              "      <td>5:32</td>\n",
              "      <td>04/14/2021 5:32</td>\n",
              "      <td>2021-04-14 05:32:00</td>\n",
              "      <td>2021</td>\n",
              "      <td>5</td>\n",
              "    </tr>\n",
              "    <tr>\n",
              "      <th>1</th>\n",
              "      <td>04/13/2021</td>\n",
              "      <td>21:35</td>\n",
              "      <td>04/13/2021 21:35</td>\n",
              "      <td>2021-04-13 21:35:00</td>\n",
              "      <td>2021</td>\n",
              "      <td>21</td>\n",
              "    </tr>\n",
              "    <tr>\n",
              "      <th>2</th>\n",
              "      <td>04/15/2021</td>\n",
              "      <td>16:15</td>\n",
              "      <td>04/15/2021 16:15</td>\n",
              "      <td>2021-04-15 16:15:00</td>\n",
              "      <td>2021</td>\n",
              "      <td>16</td>\n",
              "    </tr>\n",
              "    <tr>\n",
              "      <th>3</th>\n",
              "      <td>04/13/2021</td>\n",
              "      <td>16:00</td>\n",
              "      <td>04/13/2021 16:00</td>\n",
              "      <td>2021-04-13 16:00:00</td>\n",
              "      <td>2021</td>\n",
              "      <td>16</td>\n",
              "    </tr>\n",
              "    <tr>\n",
              "      <th>4</th>\n",
              "      <td>04/12/2021</td>\n",
              "      <td>8:25</td>\n",
              "      <td>04/12/2021 8:25</td>\n",
              "      <td>2021-04-12 08:25:00</td>\n",
              "      <td>2021</td>\n",
              "      <td>8</td>\n",
              "    </tr>\n",
              "    <tr>\n",
              "      <th>5</th>\n",
              "      <td>04/13/2021</td>\n",
              "      <td>17:11</td>\n",
              "      <td>04/13/2021 17:11</td>\n",
              "      <td>2021-04-13 17:11:00</td>\n",
              "      <td>2021</td>\n",
              "      <td>17</td>\n",
              "    </tr>\n",
              "    <tr>\n",
              "      <th>6</th>\n",
              "      <td>04/13/2021</td>\n",
              "      <td>17:30</td>\n",
              "      <td>04/13/2021 17:30</td>\n",
              "      <td>2021-04-13 17:30:00</td>\n",
              "      <td>2021</td>\n",
              "      <td>17</td>\n",
              "    </tr>\n",
              "    <tr>\n",
              "      <th>7</th>\n",
              "      <td>04/16/2021</td>\n",
              "      <td>23:30</td>\n",
              "      <td>04/16/2021 23:30</td>\n",
              "      <td>2021-04-16 23:30:00</td>\n",
              "      <td>2021</td>\n",
              "      <td>23</td>\n",
              "    </tr>\n",
              "    <tr>\n",
              "      <th>8</th>\n",
              "      <td>04/11/2021</td>\n",
              "      <td>17:00</td>\n",
              "      <td>04/11/2021 17:00</td>\n",
              "      <td>2021-04-11 17:00:00</td>\n",
              "      <td>2021</td>\n",
              "      <td>17</td>\n",
              "    </tr>\n",
              "    <tr>\n",
              "      <th>9</th>\n",
              "      <td>04/16/2021</td>\n",
              "      <td>21:15</td>\n",
              "      <td>04/16/2021 21:15</td>\n",
              "      <td>2021-04-16 21:15:00</td>\n",
              "      <td>2021</td>\n",
              "      <td>21</td>\n",
              "    </tr>\n",
              "  </tbody>\n",
              "</table>\n",
              "</div>"
            ],
            "text/plain": [
              "   CRASH DATE CRASH TIME  ... year_OC hour_OC\n",
              "0  04/14/2021       5:32  ...    2021       5\n",
              "1  04/13/2021      21:35  ...    2021      21\n",
              "2  04/15/2021      16:15  ...    2021      16\n",
              "3  04/13/2021      16:00  ...    2021      16\n",
              "4  04/12/2021       8:25  ...    2021       8\n",
              "5  04/13/2021      17:11  ...    2021      17\n",
              "6  04/13/2021      17:30  ...    2021      17\n",
              "7  04/16/2021      23:30  ...    2021      23\n",
              "8  04/11/2021      17:00  ...    2021      17\n",
              "9  04/16/2021      21:15  ...    2021      21\n",
              "\n",
              "[10 rows x 6 columns]"
            ]
          },
          "metadata": {},
          "execution_count": 39
        }
      ]
    },
    {
      "cell_type": "markdown",
      "metadata": {
        "id": "T0bHJkOrbfBi"
      },
      "source": [
        "### Visualizations"
      ]
    },
    {
      "cell_type": "code",
      "metadata": {
        "colab": {
          "base_uri": "https://localhost:8080/",
          "height": 408
        },
        "id": "egIwGb1HLwCK",
        "outputId": "56744793-df5f-4cc8-9a68-6d8db5746a96"
      },
      "source": [
        "\n",
        "data_2019_MVC = MVC_Crashes_plot[(MVC_Crashes_plot.year_OC == 2019)].copy()\n",
        "data_2017_MVC = MVC_Crashes_plot[(MVC_Crashes_plot.year_OC == 2017)].copy()\n",
        "data_2015_MVC = MVC_Crashes_plot[(MVC_Crashes_plot.year_OC == 2015)].copy()\n",
        "plt.figure(figsize=(8,6))\n",
        "plt.hist(data_2019_MVC.hour_OC, bins=24, alpha=1, density=True, histtype = 'step', label=\"Hour of Crash in 2019\")\n",
        "plt.hist(data_2017_MVC.hour_OC, bins=24, alpha=1, density=True, histtype = 'step', label=\"Hour of Crash in 2017\")\n",
        "plt.hist(data_2015_MVC.hour_OC, bins=24, alpha=1, density=True, histtype = 'step', label=\"Hour of Crash in 2015\")\n",
        "plt.xlabel(\"Hour of Day\", size=14)\n",
        "plt.ylabel(\"Percentage of Crashes\", size=14)\n",
        "plt.title(\"Percentage of Crashes Per Hour of Day\")\n",
        "plt.legend(loc='upper right')\n",
        "plt.show()"
      ],
      "execution_count": null,
      "outputs": [
        {
          "output_type": "display_data",
          "data": {
            "image/png": "[encoded data removed]",
            "text/plain": [
              "<Figure size 576x432 with 1 Axes>"
            ]
          },
          "metadata": {
            "needs_background": "light"
          }
        }
      ]
    },
    {
      "cell_type": "markdown",
      "metadata": {
        "id": "yDbZobUKOMEx"
      },
      "source": [
        "## B. Traffic Volume Counts"
      ]
    },
    {
      "cell_type": "markdown",
      "metadata": {
        "id": "2Z7z6TFSeRkx"
      },
      "source": [
        "### Data Manipulation"
      ]
    },
    {
      "cell_type": "code",
      "metadata": {
        "colab": {
          "base_uri": "https://localhost:8080/",
          "height": 233
        },
        "id": "k69m4JYHOOzY",
        "outputId": "335f7c7f-f84b-4ce4-dd19-db5a2c3b532f"
      },
      "source": [
        "MVC_TVC = pd.read_csv(TVC_2014_2019_pth)\n",
        "MVC_TVC['Date'] = pd.to_datetime(MVC_TVC['Date'])\n",
        "MVC_TVC['year_OC'] = MVC_TVC['Date'].dt.year\n",
        "MVC_TVC.head(2)"
      ],
      "execution_count": null,
      "outputs": [
        {
          "output_type": "execute_result",
          "data": {
            "text/html": [
              "<div>\n",
              "<style scoped>\n",
              "    .dataframe tbody tr th:only-of-type {\n",
              "        vertical-align: middle;\n",
              "    }\n",
              "\n",
              "    .dataframe tbody tr th {\n",
              "        vertical-align: top;\n",
              "    }\n",
              "\n",
              "    .dataframe thead th {\n",
              "        text-align: right;\n",
              "    }\n",
              "</style>\n",
              "<table border=\"1\" class=\"dataframe\">\n",
              "  <thead>\n",
              "    <tr style=\"text-align: right;\">\n",
              "      <th></th>\n",
              "      <th>ID</th>\n",
              "      <th>Segment ID</th>\n",
              "      <th>Roadway Name</th>\n",
              "      <th>From</th>\n",
              "      <th>To</th>\n",
              "      <th>Direction</th>\n",
              "      <th>Date</th>\n",
              "      <th>12:00-1:00 AM</th>\n",
              "      <th>1:00-2:00AM</th>\n",
              "      <th>2:00-3:00AM</th>\n",
              "      <th>3:00-4:00AM</th>\n",
              "      <th>4:00-5:00AM</th>\n",
              "      <th>5:00-6:00AM</th>\n",
              "      <th>6:00-7:00AM</th>\n",
              "      <th>7:00-8:00AM</th>\n",
              "      <th>8:00-9:00AM</th>\n",
              "      <th>9:00-10:00AM</th>\n",
              "      <th>10:00-11:00AM</th>\n",
              "      <th>11:00-12:00PM</th>\n",
              "      <th>12:00-1:00PM</th>\n",
              "      <th>1:00-2:00PM</th>\n",
              "      <th>2:00-3:00PM</th>\n",
              "      <th>3:00-4:00PM</th>\n",
              "      <th>4:00-5:00PM</th>\n",
              "      <th>5:00-6:00PM</th>\n",
              "      <th>6:00-7:00PM</th>\n",
              "      <th>7:00-8:00PM</th>\n",
              "      <th>8:00-9:00PM</th>\n",
              "      <th>9:00-10:00PM</th>\n",
              "      <th>10:00-11:00PM</th>\n",
              "      <th>11:00-12:00AM</th>\n",
              "      <th>year_OC</th>\n",
              "    </tr>\n",
              "  </thead>\n",
              "  <tbody>\n",
              "    <tr>\n",
              "      <th>0</th>\n",
              "      <td>2</td>\n",
              "      <td>70376</td>\n",
              "      <td>3 Avenue</td>\n",
              "      <td>East 154 Street</td>\n",
              "      <td>East 155 Street</td>\n",
              "      <td>NB</td>\n",
              "      <td>2014-09-13</td>\n",
              "      <td>204.0</td>\n",
              "      <td>177.0</td>\n",
              "      <td>133.0</td>\n",
              "      <td>126.0</td>\n",
              "      <td>141.0</td>\n",
              "      <td>134.0</td>\n",
              "      <td>121.0</td>\n",
              "      <td>180.0</td>\n",
              "      <td>223.0</td>\n",
              "      <td>272.0</td>\n",
              "      <td>386.0</td>\n",
              "      <td>339.0</td>\n",
              "      <td>513</td>\n",
              "      <td>506</td>\n",
              "      <td>520</td>\n",
              "      <td>611</td>\n",
              "      <td>573</td>\n",
              "      <td>546</td>\n",
              "      <td>582</td>\n",
              "      <td>528</td>\n",
              "      <td>432</td>\n",
              "      <td>328</td>\n",
              "      <td>282</td>\n",
              "      <td>240</td>\n",
              "      <td>2014</td>\n",
              "    </tr>\n",
              "    <tr>\n",
              "      <th>1</th>\n",
              "      <td>2</td>\n",
              "      <td>70376</td>\n",
              "      <td>3 Avenue</td>\n",
              "      <td>East 155 Street</td>\n",
              "      <td>East 154 Street</td>\n",
              "      <td>SB</td>\n",
              "      <td>2014-09-13</td>\n",
              "      <td>140.0</td>\n",
              "      <td>51.0</td>\n",
              "      <td>128.0</td>\n",
              "      <td>116.0</td>\n",
              "      <td>144.0</td>\n",
              "      <td>146.0</td>\n",
              "      <td>153.0</td>\n",
              "      <td>219.0</td>\n",
              "      <td>226.0</td>\n",
              "      <td>273.0</td>\n",
              "      <td>317.0</td>\n",
              "      <td>325.0</td>\n",
              "      <td>403</td>\n",
              "      <td>414</td>\n",
              "      <td>379</td>\n",
              "      <td>376</td>\n",
              "      <td>329</td>\n",
              "      <td>362</td>\n",
              "      <td>418</td>\n",
              "      <td>335</td>\n",
              "      <td>282</td>\n",
              "      <td>247</td>\n",
              "      <td>237</td>\n",
              "      <td>191</td>\n",
              "      <td>2014</td>\n",
              "    </tr>\n",
              "  </tbody>\n",
              "</table>\n",
              "</div>"
            ],
            "text/plain": [
              "   ID  Segment ID Roadway Name  ... 10:00-11:00PM 11:00-12:00AM year_OC\n",
              "0   2       70376     3 Avenue  ...           282           240    2014\n",
              "1   2       70376     3 Avenue  ...           237           191    2014\n",
              "\n",
              "[2 rows x 32 columns]"
            ]
          },
          "metadata": {},
          "execution_count": 12
        }
      ]
    },
    {
      "cell_type": "code",
      "metadata": {
        "colab": {
          "base_uri": "https://localhost:8080/"
        },
        "id": "tBidj0xLTqT8",
        "outputId": "274769fd-2df7-4c27-cb0f-69b67a9cd936"
      },
      "source": [
        "MVC_TVC = MVC_TVC.fillna(0)\n",
        "MVC_TVC.isna().sum()"
      ],
      "execution_count": null,
      "outputs": [
        {
          "output_type": "execute_result",
          "data": {
            "text/plain": [
              "ID               0\n",
              "Segment ID       0\n",
              "Roadway Name     0\n",
              "From             0\n",
              "To               0\n",
              "Direction        0\n",
              "Date             0\n",
              "12:00-1:00 AM    0\n",
              "1:00-2:00AM      0\n",
              "2:00-3:00AM      0\n",
              "3:00-4:00AM      0\n",
              "4:00-5:00AM      0\n",
              "5:00-6:00AM      0\n",
              "6:00-7:00AM      0\n",
              "7:00-8:00AM      0\n",
              "8:00-9:00AM      0\n",
              "9:00-10:00AM     0\n",
              "10:00-11:00AM    0\n",
              "11:00-12:00PM    0\n",
              "12:00-1:00PM     0\n",
              "1:00-2:00PM      0\n",
              "2:00-3:00PM      0\n",
              "3:00-4:00PM      0\n",
              "4:00-5:00PM      0\n",
              "5:00-6:00PM      0\n",
              "6:00-7:00PM      0\n",
              "7:00-8:00PM      0\n",
              "8:00-9:00PM      0\n",
              "9:00-10:00PM     0\n",
              "10:00-11:00PM    0\n",
              "11:00-12:00AM    0\n",
              "year_OC          0\n",
              "dtype: int64"
            ]
          },
          "metadata": {},
          "execution_count": 13
        }
      ]
    },
    {
      "cell_type": "code",
      "metadata": {
        "id": "zRlNqKNuSoyU"
      },
      "source": [
        ""
      ],
      "execution_count": null,
      "outputs": []
    },
    {
      "cell_type": "code",
      "metadata": {
        "colab": {
          "base_uri": "https://localhost:8080/"
        },
        "id": "9NQAa2PiPDOc",
        "outputId": "769b7842-613f-44d3-9a0e-256e0078c735"
      },
      "source": [
        "TVC_columns = list(MVC_TVC.columns.values)\n",
        "print(TVC_columns)"
      ],
      "execution_count": null,
      "outputs": [
        {
          "output_type": "stream",
          "name": "stdout",
          "text": [
            "['ID', 'Segment ID', 'Roadway Name', 'From', 'To', 'Direction', 'Date', '12:00-1:00 AM', '1:00-2:00AM', '2:00-3:00AM', '3:00-4:00AM', '4:00-5:00AM', '5:00-6:00AM', '6:00-7:00AM', '7:00-8:00AM', '8:00-9:00AM', '9:00-10:00AM', '10:00-11:00AM', '11:00-12:00PM', '12:00-1:00PM', '1:00-2:00PM', '2:00-3:00PM', '3:00-4:00PM', '4:00-5:00PM', '5:00-6:00PM', '6:00-7:00PM', '7:00-8:00PM', '8:00-9:00PM', '9:00-10:00PM', '10:00-11:00PM', '11:00-12:00AM', 'year_OC']\n"
          ]
        }
      ]
    },
    {
      "cell_type": "code",
      "metadata": {
        "id": "aEp7Pnd7S4Ke"
      },
      "source": [
        "hour_col_lst = ['12:00-1:00 AM', '1:00-2:00AM', '2:00-3:00AM', '3:00-4:00AM', '4:00-5:00AM', '5:00-6:00AM', '6:00-7:00AM', '7:00-8:00AM', '8:00-9:00AM', '9:00-10:00AM', '10:00-11:00AM', '11:00-12:00PM', '12:00-1:00PM', '1:00-2:00PM', '2:00-3:00PM', '3:00-4:00PM', '4:00-5:00PM', '5:00-6:00PM', '6:00-7:00PM', '7:00-8:00PM', '8:00-9:00PM', '9:00-10:00PM', '10:00-11:00PM', '11:00-12:00AM']"
      ],
      "execution_count": null,
      "outputs": []
    },
    {
      "cell_type": "code",
      "metadata": {
        "colab": {
          "base_uri": "https://localhost:8080/",
          "height": 128
        },
        "id": "Jpkz3jwYSwa0",
        "outputId": "fcfae890-2dc5-41b4-bbae-94ce840e9b97"
      },
      "source": [
        "MVC_TVC_agg = MVC_TVC.copy()\n",
        "MVC_TVC_agg = MVC_TVC_agg.groupby(['year_OC'], as_index=False)[hour_col_lst].apply(lambda x : x.astype(int).sum())\n",
        "MVC_TVC_agg.head(2)"
      ],
      "execution_count": null,
      "outputs": [
        {
          "output_type": "execute_result",
          "data": {
            "text/html": [
              "<div>\n",
              "<style scoped>\n",
              "    .dataframe tbody tr th:only-of-type {\n",
              "        vertical-align: middle;\n",
              "    }\n",
              "\n",
              "    .dataframe tbody tr th {\n",
              "        vertical-align: top;\n",
              "    }\n",
              "\n",
              "    .dataframe thead th {\n",
              "        text-align: right;\n",
              "    }\n",
              "</style>\n",
              "<table border=\"1\" class=\"dataframe\">\n",
              "  <thead>\n",
              "    <tr style=\"text-align: right;\">\n",
              "      <th></th>\n",
              "      <th>year_OC</th>\n",
              "      <th>12:00-1:00 AM</th>\n",
              "      <th>1:00-2:00AM</th>\n",
              "      <th>2:00-3:00AM</th>\n",
              "      <th>3:00-4:00AM</th>\n",
              "      <th>4:00-5:00AM</th>\n",
              "      <th>5:00-6:00AM</th>\n",
              "      <th>6:00-7:00AM</th>\n",
              "      <th>7:00-8:00AM</th>\n",
              "      <th>8:00-9:00AM</th>\n",
              "      <th>9:00-10:00AM</th>\n",
              "      <th>10:00-11:00AM</th>\n",
              "      <th>11:00-12:00PM</th>\n",
              "      <th>12:00-1:00PM</th>\n",
              "      <th>1:00-2:00PM</th>\n",
              "      <th>2:00-3:00PM</th>\n",
              "      <th>3:00-4:00PM</th>\n",
              "      <th>4:00-5:00PM</th>\n",
              "      <th>5:00-6:00PM</th>\n",
              "      <th>6:00-7:00PM</th>\n",
              "      <th>7:00-8:00PM</th>\n",
              "      <th>8:00-9:00PM</th>\n",
              "      <th>9:00-10:00PM</th>\n",
              "      <th>10:00-11:00PM</th>\n",
              "      <th>11:00-12:00AM</th>\n",
              "    </tr>\n",
              "  </thead>\n",
              "  <tbody>\n",
              "    <tr>\n",
              "      <th>0</th>\n",
              "      <td>2014</td>\n",
              "      <td>1945368</td>\n",
              "      <td>1341495</td>\n",
              "      <td>1008592</td>\n",
              "      <td>889523</td>\n",
              "      <td>1101947</td>\n",
              "      <td>1736593</td>\n",
              "      <td>3040547</td>\n",
              "      <td>4115028</td>\n",
              "      <td>4411203</td>\n",
              "      <td>4261250</td>\n",
              "      <td>4223972</td>\n",
              "      <td>4389952</td>\n",
              "      <td>4576439</td>\n",
              "      <td>4746849</td>\n",
              "      <td>5108765</td>\n",
              "      <td>5372934</td>\n",
              "      <td>5469862</td>\n",
              "      <td>5449032</td>\n",
              "      <td>5207669</td>\n",
              "      <td>4717774</td>\n",
              "      <td>4095823</td>\n",
              "      <td>3512087</td>\n",
              "      <td>3066435</td>\n",
              "      <td>2516810</td>\n",
              "    </tr>\n",
              "    <tr>\n",
              "      <th>1</th>\n",
              "      <td>2015</td>\n",
              "      <td>1535613</td>\n",
              "      <td>1063350</td>\n",
              "      <td>776812</td>\n",
              "      <td>662375</td>\n",
              "      <td>771990</td>\n",
              "      <td>1238858</td>\n",
              "      <td>2235987</td>\n",
              "      <td>3104881</td>\n",
              "      <td>3384019</td>\n",
              "      <td>3291849</td>\n",
              "      <td>3344945</td>\n",
              "      <td>3484642</td>\n",
              "      <td>3621337</td>\n",
              "      <td>3759585</td>\n",
              "      <td>4029564</td>\n",
              "      <td>4183920</td>\n",
              "      <td>4207456</td>\n",
              "      <td>4194473</td>\n",
              "      <td>4047761</td>\n",
              "      <td>3679513</td>\n",
              "      <td>3186600</td>\n",
              "      <td>2707045</td>\n",
              "      <td>2337587</td>\n",
              "      <td>1950478</td>\n",
              "    </tr>\n",
              "  </tbody>\n",
              "</table>\n",
              "</div>"
            ],
            "text/plain": [
              "   year_OC  12:00-1:00 AM  ...  10:00-11:00PM  11:00-12:00AM\n",
              "0     2014        1945368  ...        3066435        2516810\n",
              "1     2015        1535613  ...        2337587        1950478\n",
              "\n",
              "[2 rows x 25 columns]"
            ]
          },
          "metadata": {},
          "execution_count": 16
        }
      ]
    },
    {
      "cell_type": "code",
      "metadata": {
        "colab": {
          "base_uri": "https://localhost:8080/",
          "height": 359
        },
        "id": "xqURaJQGQA3P",
        "outputId": "22654f3a-1308-4f63-d9ef-1b73cbd11379"
      },
      "source": [
        "\n",
        "MVC_TVC_wide = pd.melt(MVC_TVC_agg, id_vars='year_OC', value_vars=['12:00-1:00 AM', '1:00-2:00AM', '2:00-3:00AM', '3:00-4:00AM', '4:00-5:00AM', '5:00-6:00AM', '6:00-7:00AM', '7:00-8:00AM', '8:00-9:00AM', '9:00-10:00AM', '10:00-11:00AM', '11:00-12:00PM', '12:00-1:00PM', '1:00-2:00PM', '2:00-3:00PM', '3:00-4:00PM', '4:00-5:00PM', '5:00-6:00PM', '6:00-7:00PM', '7:00-8:00PM', '8:00-9:00PM', '9:00-10:00PM', '10:00-11:00PM', '11:00-12:00AM'])\n",
        "#MVC_TVC_wide['year_OC'] = MVC_TVC_wide['Date'].dt.year\n",
        "MVC_TVC_wide.head(10)"
      ],
      "execution_count": null,
      "outputs": [
        {
          "output_type": "execute_result",
          "data": {
            "text/html": [
              "<div>\n",
              "<style scoped>\n",
              "    .dataframe tbody tr th:only-of-type {\n",
              "        vertical-align: middle;\n",
              "    }\n",
              "\n",
              "    .dataframe tbody tr th {\n",
              "        vertical-align: top;\n",
              "    }\n",
              "\n",
              "    .dataframe thead th {\n",
              "        text-align: right;\n",
              "    }\n",
              "</style>\n",
              "<table border=\"1\" class=\"dataframe\">\n",
              "  <thead>\n",
              "    <tr style=\"text-align: right;\">\n",
              "      <th></th>\n",
              "      <th>year_OC</th>\n",
              "      <th>variable</th>\n",
              "      <th>value</th>\n",
              "    </tr>\n",
              "  </thead>\n",
              "  <tbody>\n",
              "    <tr>\n",
              "      <th>0</th>\n",
              "      <td>2014</td>\n",
              "      <td>12:00-1:00 AM</td>\n",
              "      <td>1945368</td>\n",
              "    </tr>\n",
              "    <tr>\n",
              "      <th>1</th>\n",
              "      <td>2015</td>\n",
              "      <td>12:00-1:00 AM</td>\n",
              "      <td>1535613</td>\n",
              "    </tr>\n",
              "    <tr>\n",
              "      <th>2</th>\n",
              "      <td>2016</td>\n",
              "      <td>12:00-1:00 AM</td>\n",
              "      <td>1686103</td>\n",
              "    </tr>\n",
              "    <tr>\n",
              "      <th>3</th>\n",
              "      <td>2017</td>\n",
              "      <td>12:00-1:00 AM</td>\n",
              "      <td>1387809</td>\n",
              "    </tr>\n",
              "    <tr>\n",
              "      <th>4</th>\n",
              "      <td>2018</td>\n",
              "      <td>12:00-1:00 AM</td>\n",
              "      <td>209582</td>\n",
              "    </tr>\n",
              "    <tr>\n",
              "      <th>5</th>\n",
              "      <td>2019</td>\n",
              "      <td>12:00-1:00 AM</td>\n",
              "      <td>1269974</td>\n",
              "    </tr>\n",
              "    <tr>\n",
              "      <th>6</th>\n",
              "      <td>2014</td>\n",
              "      <td>1:00-2:00AM</td>\n",
              "      <td>1341495</td>\n",
              "    </tr>\n",
              "    <tr>\n",
              "      <th>7</th>\n",
              "      <td>2015</td>\n",
              "      <td>1:00-2:00AM</td>\n",
              "      <td>1063350</td>\n",
              "    </tr>\n",
              "    <tr>\n",
              "      <th>8</th>\n",
              "      <td>2016</td>\n",
              "      <td>1:00-2:00AM</td>\n",
              "      <td>1188587</td>\n",
              "    </tr>\n",
              "    <tr>\n",
              "      <th>9</th>\n",
              "      <td>2017</td>\n",
              "      <td>1:00-2:00AM</td>\n",
              "      <td>1024182</td>\n",
              "    </tr>\n",
              "  </tbody>\n",
              "</table>\n",
              "</div>"
            ],
            "text/plain": [
              "   year_OC       variable    value\n",
              "0     2014  12:00-1:00 AM  1945368\n",
              "1     2015  12:00-1:00 AM  1535613\n",
              "2     2016  12:00-1:00 AM  1686103\n",
              "3     2017  12:00-1:00 AM  1387809\n",
              "4     2018  12:00-1:00 AM   209582\n",
              "5     2019  12:00-1:00 AM  1269974\n",
              "6     2014    1:00-2:00AM  1341495\n",
              "7     2015    1:00-2:00AM  1063350\n",
              "8     2016    1:00-2:00AM  1188587\n",
              "9     2017    1:00-2:00AM  1024182"
            ]
          },
          "metadata": {},
          "execution_count": 17
        }
      ]
    },
    {
      "cell_type": "code",
      "metadata": {
        "colab": {
          "base_uri": "https://localhost:8080/"
        },
        "id": "GzDL4GX3XNkr",
        "outputId": "288a24b5-c3a2-4080-8a46-79b8e7407cf1"
      },
      "source": [
        "MVC_TVC_wide.year_OC.unique()"
      ],
      "execution_count": null,
      "outputs": [
        {
          "output_type": "execute_result",
          "data": {
            "text/plain": [
              "array([2014, 2015, 2016, 2017, 2018, 2019])"
            ]
          },
          "metadata": {},
          "execution_count": 18
        }
      ]
    },
    {
      "cell_type": "markdown",
      "metadata": {
        "id": "T8IpPnSyeEoR"
      },
      "source": [
        "### Visualizations"
      ]
    },
    {
      "cell_type": "code",
      "metadata": {
        "colab": {
          "base_uri": "https://localhost:8080/",
          "height": 474
        },
        "id": "yV3ual2wY1Ga",
        "outputId": "5ff48493-9ec4-456d-8893-d1a9271ec972"
      },
      "source": [
        "data_2019_TVC = MVC_TVC_wide[(MVC_TVC_wide.year_OC == 2019)]\n",
        "data_2017_TVC = MVC_TVC_wide[(MVC_TVC_wide.year_OC == 2017)]\n",
        "data_2015_TVC = MVC_TVC_wide[(MVC_TVC_wide.year_OC == 2015)]\n",
        "plt.figure(figsize=(8,6))\n",
        "plt.plot(data_2019_TVC.variable, data_2019_TVC.value, label=\"Hour of Count 2019\")\n",
        "plt.plot(data_2017_TVC.variable, data_2017_TVC.value, label=\"Hour of Count 2020\")\n",
        "plt.plot(data_2015_TVC.variable, data_2015_TVC.value, label=\"Hour of Count 2020\")\n",
        "plt.xlabel(\"Hour of Day\", size=14)\n",
        "plt.xticks(rotation = 90)\n",
        "plt.ylabel(\"Number of Vehicles\", size=14)\n",
        "plt.title(\"Number of Vehicles Per Hour of Day\")\n",
        "plt.legend(loc='upper right')\n",
        "plt.show()"
      ],
      "execution_count": null,
      "outputs": [
        {
          "output_type": "display_data",
          "data": {
            "image/png": "[encoded data removed]",
            "text/plain": [
              "<Figure size 576x432 with 1 Axes>"
            ]
          },
          "metadata": {
            "needs_background": "light"
          }
        }
      ]
    },
    {
      "cell_type": "markdown",
      "metadata": {
        "id": "_6k8uyOEEC8U"
      },
      "source": [
        "## C. Speed Analysis"
      ]
    },
    {
      "cell_type": "markdown",
      "metadata": {
        "id": "wQrP1pt3O7Vq"
      },
      "source": [
        "### Data Manipulation"
      ]
    },
    {
      "cell_type": "markdown",
      "metadata": {
        "id": "B7T7eBFnNjB0"
      },
      "source": [
        "Data Sourced From:\n",
        "https://www.kaggle.com/crailtap/nyc-real-time-traffic-speed-data-feed"
      ]
    },
    {
      "cell_type": "code",
      "metadata": {
        "colab": {
          "base_uri": "https://localhost:8080/",
          "height": 376
        },
        "id": "Q8NnjgxoMHhV",
        "outputId": "b2977ff1-49e7-4027-f402-fac49ba37533"
      },
      "source": [
        "speed_data_pth = \"/content/drive/MyDrive/Datasets/DCAS/Kaggle_2016_NYC_RTTSpeed/january2016.csv\"\n",
        "\n",
        "Speed_df = pd.read_csv(speed_data_pth)\n",
        "Speed_df['DateTime'] = pd.to_datetime(Speed_df['DataAsOf'])\n",
        "Speed_df['Hour'] = Speed_df['DateTime'].dt.hour\n",
        "print(len(Speed_df))\n",
        "Speed_df.head(10)"
      ],
      "execution_count": null,
      "outputs": [
        {
          "output_type": "stream",
          "name": "stdout",
          "text": [
            "1202396\n"
          ]
        },
        {
          "output_type": "execute_result",
          "data": {
            "text/html": [
              "<div>\n",
              "<style scoped>\n",
              "    .dataframe tbody tr th:only-of-type {\n",
              "        vertical-align: middle;\n",
              "    }\n",
              "\n",
              "    .dataframe tbody tr th {\n",
              "        vertical-align: top;\n",
              "    }\n",
              "\n",
              "    .dataframe thead th {\n",
              "        text-align: right;\n",
              "    }\n",
              "</style>\n",
              "<table border=\"1\" class=\"dataframe\">\n",
              "  <thead>\n",
              "    <tr style=\"text-align: right;\">\n",
              "      <th></th>\n",
              "      <th>Id</th>\n",
              "      <th>Speed</th>\n",
              "      <th>TravelTime</th>\n",
              "      <th>Status</th>\n",
              "      <th>DataAsOf</th>\n",
              "      <th>linkId</th>\n",
              "      <th>DateTime</th>\n",
              "      <th>Hour</th>\n",
              "    </tr>\n",
              "  </thead>\n",
              "  <tbody>\n",
              "    <tr>\n",
              "      <th>0</th>\n",
              "      <td>1</td>\n",
              "      <td>19.88</td>\n",
              "      <td>260</td>\n",
              "      <td>0</td>\n",
              "      <td>1/1/2016 00:01:01</td>\n",
              "      <td>4616337</td>\n",
              "      <td>2016-01-01 00:01:01</td>\n",
              "      <td>0</td>\n",
              "    </tr>\n",
              "    <tr>\n",
              "      <th>1</th>\n",
              "      <td>2</td>\n",
              "      <td>24.23</td>\n",
              "      <td>107</td>\n",
              "      <td>0</td>\n",
              "      <td>1/1/2016 00:01:01</td>\n",
              "      <td>4616325</td>\n",
              "      <td>2016-01-01 00:01:01</td>\n",
              "      <td>0</td>\n",
              "    </tr>\n",
              "    <tr>\n",
              "      <th>2</th>\n",
              "      <td>3</td>\n",
              "      <td>19.88</td>\n",
              "      <td>316</td>\n",
              "      <td>0</td>\n",
              "      <td>1/1/2016 00:01:01</td>\n",
              "      <td>4616324</td>\n",
              "      <td>2016-01-01 00:01:01</td>\n",
              "      <td>0</td>\n",
              "    </tr>\n",
              "    <tr>\n",
              "      <th>3</th>\n",
              "      <td>4</td>\n",
              "      <td>14.29</td>\n",
              "      <td>234</td>\n",
              "      <td>0</td>\n",
              "      <td>1/1/2016 00:01:01</td>\n",
              "      <td>4616338</td>\n",
              "      <td>2016-01-01 00:01:01</td>\n",
              "      <td>0</td>\n",
              "    </tr>\n",
              "    <tr>\n",
              "      <th>4</th>\n",
              "      <td>106</td>\n",
              "      <td>18.02</td>\n",
              "      <td>124</td>\n",
              "      <td>0</td>\n",
              "      <td>1/1/2016 00:01:01</td>\n",
              "      <td>4616323</td>\n",
              "      <td>2016-01-01 00:01:01</td>\n",
              "      <td>0</td>\n",
              "    </tr>\n",
              "    <tr>\n",
              "      <th>5</th>\n",
              "      <td>110</td>\n",
              "      <td>55.92</td>\n",
              "      <td>137</td>\n",
              "      <td>0</td>\n",
              "      <td>1/1/2016 00:01:01</td>\n",
              "      <td>4616281</td>\n",
              "      <td>2016-01-01 00:01:01</td>\n",
              "      <td>0</td>\n",
              "    </tr>\n",
              "    <tr>\n",
              "      <th>6</th>\n",
              "      <td>119</td>\n",
              "      <td>37.28</td>\n",
              "      <td>175</td>\n",
              "      <td>0</td>\n",
              "      <td>1/1/2016 00:00:37</td>\n",
              "      <td>4456502</td>\n",
              "      <td>2016-01-01 00:00:37</td>\n",
              "      <td>0</td>\n",
              "    </tr>\n",
              "    <tr>\n",
              "      <th>7</th>\n",
              "      <td>124</td>\n",
              "      <td>45.98</td>\n",
              "      <td>142</td>\n",
              "      <td>0</td>\n",
              "      <td>1/1/2016 00:00:37</td>\n",
              "      <td>4456501</td>\n",
              "      <td>2016-01-01 00:00:37</td>\n",
              "      <td>0</td>\n",
              "    </tr>\n",
              "    <tr>\n",
              "      <th>8</th>\n",
              "      <td>129</td>\n",
              "      <td>60.89</td>\n",
              "      <td>52</td>\n",
              "      <td>0</td>\n",
              "      <td>1/1/2016 00:01:01</td>\n",
              "      <td>4616246</td>\n",
              "      <td>2016-01-01 00:01:01</td>\n",
              "      <td>0</td>\n",
              "    </tr>\n",
              "    <tr>\n",
              "      <th>9</th>\n",
              "      <td>137</td>\n",
              "      <td>60.89</td>\n",
              "      <td>70</td>\n",
              "      <td>0</td>\n",
              "      <td>1/1/2016 00:01:01</td>\n",
              "      <td>4616260</td>\n",
              "      <td>2016-01-01 00:01:01</td>\n",
              "      <td>0</td>\n",
              "    </tr>\n",
              "  </tbody>\n",
              "</table>\n",
              "</div>"
            ],
            "text/plain": [
              "    Id  Speed  TravelTime  ...   linkId            DateTime  Hour\n",
              "0    1  19.88         260  ...  4616337 2016-01-01 00:01:01     0\n",
              "1    2  24.23         107  ...  4616325 2016-01-01 00:01:01     0\n",
              "2    3  19.88         316  ...  4616324 2016-01-01 00:01:01     0\n",
              "3    4  14.29         234  ...  4616338 2016-01-01 00:01:01     0\n",
              "4  106  18.02         124  ...  4616323 2016-01-01 00:01:01     0\n",
              "5  110  55.92         137  ...  4616281 2016-01-01 00:01:01     0\n",
              "6  119  37.28         175  ...  4456502 2016-01-01 00:00:37     0\n",
              "7  124  45.98         142  ...  4456501 2016-01-01 00:00:37     0\n",
              "8  129  60.89          52  ...  4616246 2016-01-01 00:01:01     0\n",
              "9  137  60.89          70  ...  4616260 2016-01-01 00:01:01     0\n",
              "\n",
              "[10 rows x 8 columns]"
            ]
          },
          "metadata": {},
          "execution_count": 20
        }
      ]
    },
    {
      "cell_type": "code",
      "metadata": {
        "colab": {
          "base_uri": "https://localhost:8080/"
        },
        "id": "ps3INxBWMxLg",
        "outputId": "15a08130-7118-4237-e58f-ba5d37e6035b"
      },
      "source": [
        "Speed_df.Hour.unique()"
      ],
      "execution_count": null,
      "outputs": [
        {
          "output_type": "execute_result",
          "data": {
            "text/plain": [
              "array([ 0, 23,  1,  2,  3,  4,  5,  6,  7,  8,  9, 10, 11, 12, 13, 14, 15,\n",
              "       16, 17, 18, 19, 20, 21, 22])"
            ]
          },
          "metadata": {},
          "execution_count": 21
        }
      ]
    },
    {
      "cell_type": "code",
      "metadata": {
        "colab": {
          "base_uri": "https://localhost:8080/",
          "height": 111
        },
        "id": "0rb3Ect8N4IH",
        "outputId": "4a2c9e88-8637-4d38-96ac-90ea61980e28"
      },
      "source": [
        "Ave_hourly_sped_df = Speed_df.groupby('Hour', as_index=False)['Speed'].mean()\n",
        "Ave_hourly_sped_df.head(2)"
      ],
      "execution_count": null,
      "outputs": [
        {
          "output_type": "execute_result",
          "data": {
            "text/html": [
              "<div>\n",
              "<style scoped>\n",
              "    .dataframe tbody tr th:only-of-type {\n",
              "        vertical-align: middle;\n",
              "    }\n",
              "\n",
              "    .dataframe tbody tr th {\n",
              "        vertical-align: top;\n",
              "    }\n",
              "\n",
              "    .dataframe thead th {\n",
              "        text-align: right;\n",
              "    }\n",
              "</style>\n",
              "<table border=\"1\" class=\"dataframe\">\n",
              "  <thead>\n",
              "    <tr style=\"text-align: right;\">\n",
              "      <th></th>\n",
              "      <th>Hour</th>\n",
              "      <th>Speed</th>\n",
              "    </tr>\n",
              "  </thead>\n",
              "  <tbody>\n",
              "    <tr>\n",
              "      <th>0</th>\n",
              "      <td>0</td>\n",
              "      <td>46.370079</td>\n",
              "    </tr>\n",
              "    <tr>\n",
              "      <th>1</th>\n",
              "      <td>1</td>\n",
              "      <td>46.843093</td>\n",
              "    </tr>\n",
              "  </tbody>\n",
              "</table>\n",
              "</div>"
            ],
            "text/plain": [
              "   Hour      Speed\n",
              "0     0  46.370079\n",
              "1     1  46.843093"
            ]
          },
          "metadata": {},
          "execution_count": 22
        }
      ]
    },
    {
      "cell_type": "markdown",
      "metadata": {
        "id": "OWYoVRtuO_IF"
      },
      "source": [
        "### Visualization"
      ]
    },
    {
      "cell_type": "code",
      "metadata": {
        "colab": {
          "base_uri": "https://localhost:8080/",
          "height": 302
        },
        "id": "o9A0-zfwOhJj",
        "outputId": "ca1dec81-b24f-4264-e5ab-5d5ea2814ba4"
      },
      "source": [
        "plt.plot(Ave_hourly_sped_df.Hour, Ave_hourly_sped_df.Speed, label=\"Hour of Count 2020\")\n",
        "plt.xlabel(\"Hour of Day\", size=14)\n",
        "plt.xticks(rotation = 90)\n",
        "plt.ylabel(\"Average Speed miles/hour\", size=14)\n",
        "plt.title(\"Number of Vehicles Per Hour of Day\")\n",
        "plt.legend(loc='upper right')\n",
        "plt.show()"
      ],
      "execution_count": null,
      "outputs": [
        {
          "output_type": "display_data",
          "data": {
            "image/png": "[encoded data removed]",
            "text/plain": [
              "<Figure size 432x288 with 1 Axes>"
            ]
          },
          "metadata": {
            "needs_background": "light"
          }
        }
      ]
    },
    {
      "cell_type": "markdown",
      "metadata": {
        "id": "08NnVk7E2ddt"
      },
      "source": [
        "## D. Joint Visualization of Data from Section A, B and C"
      ]
    },
    {
      "cell_type": "code",
      "metadata": {
        "colab": {
          "base_uri": "https://localhost:8080/",
          "height": 709
        },
        "id": "GbEJeM7OhMMt",
        "outputId": "e375f0df-6d6f-4b30-cf46-8dece27a8ba0"
      },
      "source": [
        "fig, (ax1,ax2,ax3) = plt.subplots(nrows=3, sharex=True, subplot_kw=dict(frameon=False),figsize=(15,10)) # frameon=False removes frames\n",
        "plt.figure(figsize=(8,6))\n",
        "ax1.grid()\n",
        "ax2.grid()\n",
        "ax3.grid()\n",
        "\n",
        "ax1.plot(data_2019_TVC.variable, data_2019_TVC.value, label=\"Hour of Count 2019\")\n",
        "ax1.plot(data_2017_TVC.variable, data_2017_TVC.value, label=\"Hour of Count 2017\")\n",
        "ax1.plot(data_2015_TVC.variable, data_2015_TVC.value, label=\"Hour of Count 2015\")\n",
        "ax1.set_ylabel(\"Number of Vehicles\", size=14)\n",
        "ax1.set_title(\"Number of Vehicles Per Hour of Day\")\n",
        "ax1.legend(loc='upper right')\n",
        "\n",
        "ax2.hist(data_2019_MVC.hour_OC, bins=24, alpha=1, density=True, histtype = 'step', label=\"Hour of Crash in 2019\")\n",
        "ax2.hist(data_2017_MVC.hour_OC, bins=24, alpha=1, density=True, histtype = 'step', label=\"Hour of Crash in 2017\")\n",
        "ax2.hist(data_2015_MVC.hour_OC, bins=24, alpha=1, density=True, histtype = 'step', label=\"Hour of Crash in 2015\")\n",
        "ax2.set_ylabel(\"Percentage of Crashes\", size=14)\n",
        "ax2.set_title(\"Percentage of Total Daily Crashes Per Hour of Day\")\n",
        "ax2.legend(loc='upper right')\n",
        "\n",
        "ax3.plot(Ave_hourly_sped_df.Hour, Ave_hourly_sped_df.Speed,label=\"Hourly Traffic Velocity 01/2016\")\n",
        "ax3.set_xlabel(\"Hour of Day\", size=14)\n",
        "ax3.set_ylabel(\"Average Speed miles/hour\", size=14)\n",
        "ax3.set_title(\"Average Speed Per Hour of Day\")\n",
        "ax3.legend(loc='upper right')\n",
        "ax3.tick_params(labelrotation=90)\n",
        "plt.savefig('/content/drive/MyDrive/Datasets/DCAS/DCAS_Traffic_Study.png')\n",
        "plt.show()"
      ],
      "execution_count": null,
      "outputs": [
        {
          "output_type": "display_data",
          "data": {
            "image/png": "[encoded data removed]",
            "text/plain": [
              "<Figure size 1080x720 with 3 Axes>"
            ]
          },
          "metadata": {
            "needs_background": "light"
          }
        },
        {
          "output_type": "display_data",
          "data": {
            "text/plain": [
              "<Figure size 576x432 with 0 Axes>"
            ]
          },
          "metadata": {}
        }
      ]
    }
  ]
}